{
 "cells": [
  {
   "cell_type": "code",
   "execution_count": null,
   "metadata": {
    "executionInfo": {
     "elapsed": 5,
     "status": "ok",
     "timestamp": 1701200030367,
     "user": {
      "displayName": "Aman Varshney",
      "userId": "03498139122202603422"
     },
     "user_tz": -60
    },
    "id": "YLgGYG8RR2B3"
   },
   "outputs": [],
   "source": [
    "import requests\n",
    "import pandas as pd\n",
    "from io import StringIO"
   ]
  },
  {
   "cell_type": "code",
   "execution_count": 2,
   "metadata": {
    "executionInfo": {
     "elapsed": 3,
     "status": "ok",
     "timestamp": 1701200032136,
     "user": {
      "displayName": "Aman Varshney",
      "userId": "03498139122202603422"
     },
     "user_tz": -60
    },
    "id": "Q11Zt6clVEK1"
   },
   "outputs": [],
   "source": [
    "def get_studies_with_nextPageToken(token):\n",
    "  if token==\"\":\n",
    "    url = \"https://clinicaltrials.gov/api/v2/studies?format=csv&aggFilters=docs:icf\"\n",
    "  else:\n",
    "    url = \"https://clinicaltrials.gov/api/v2/studies?format=csv&aggFilters=docs:icf&pageToken=\"+token\n",
    "  # Making a GET request\n",
    "  result = requests.get(url)\n",
    "\n",
    "  if result.status_code == 200:\n",
    "    # content of request\n",
    "    if token==\"\":\n",
    "      df = pd.read_csv(StringIO(result.content.decode(\"utf-8\")), sep=',')\n",
    "    else:\n",
    "      df = pd.read_csv(StringIO(result.content.decode(\"utf-8\")), sep=',', header=None)\n",
    "    return df, result.headers\n",
    "  else:\n",
    "    return \"NO study fetched\", \"Empty\"\n"
   ]
  },
  {
   "cell_type": "code",
   "execution_count": 3,
   "metadata": {
    "executionInfo": {
     "elapsed": 627,
     "status": "ok",
     "timestamp": 1701200037818,
     "user": {
      "displayName": "Aman Varshney",
      "userId": "03498139122202603422"
     },
     "user_tz": -60
    },
    "id": "YNAeuehVYP8_"
   },
   "outputs": [],
   "source": [
    "studies_with_icf, headers = get_studies_with_nextPageToken(\"\")\n",
    "studies_df = studies_with_icf"
   ]
  },
  {
   "cell_type": "code",
   "execution_count": 4,
   "metadata": {
    "executionInfo": {
     "elapsed": 127011,
     "status": "ok",
     "timestamp": 1701200169094,
     "user": {
      "displayName": "Aman Varshney",
      "userId": "03498139122202603422"
     },
     "user_tz": -60
    },
    "id": "RosklTTUS4z-"
   },
   "outputs": [],
   "source": [
    "while 'x-next-page-token' in headers:\n",
    "  studies_with_icf, headers = get_studies_with_nextPageToken(headers['x-next-page-token'])\n",
    "  studies_with_icf.columns = studies_df.columns\n",
    "  # studies_df = studies_df.append(cancer_studies_with_icf)\n",
    "  studies_df = pd.concat([studies_with_icf, studies_df])\n",
    "\n"
   ]
  },
  {
   "cell_type": "code",
   "execution_count": 5,
   "metadata": {
    "colab": {
     "base_uri": "https://localhost:8080/"
    },
    "executionInfo": {
     "elapsed": 582,
     "status": "ok",
     "timestamp": 1701200514294,
     "user": {
      "displayName": "Aman Varshney",
      "userId": "03498139122202603422"
     },
     "user_tz": -60
    },
    "id": "CT6_QyodTmhb",
    "outputId": "aede2a0f-f81d-4896-ed98-6316c33f0c90"
   },
   "outputs": [
    {
     "data": {
      "text/plain": [
       "Index(['NCT Number', 'Study Title', 'Study URL', 'Acronym', 'Study Status',\n",
       "       'Brief Summary', 'Study Results', 'Conditions', 'Interventions',\n",
       "       'Primary Outcome Measures', 'Secondary Outcome Measures',\n",
       "       'Other Outcome Measures', 'Sponsor', 'Collaborators', 'Sex', 'Age',\n",
       "       'Phases', 'Enrollment', 'Funder Type', 'Study Type', 'Study Design',\n",
       "       'Other IDs', 'Start Date', 'Primary Completion Date', 'Completion Date',\n",
       "       'First Posted', 'Results First Posted', 'Last Update Posted',\n",
       "       'Locations', 'Study Documents'],\n",
       "      dtype='object')"
      ]
     },
     "execution_count": 5,
     "metadata": {},
     "output_type": "execute_result"
    }
   ],
   "source": [
    "studies_df.columns"
   ]
  },
  {
   "cell_type": "code",
   "execution_count": null,
   "metadata": {
    "executionInfo": {
     "elapsed": 1150,
     "status": "ok",
     "timestamp": 1701200603474,
     "user": {
      "displayName": "Aman Varshney",
      "userId": "03498139122202603422"
     },
     "user_tz": -60
    },
    "id": "2V5DTeefYy2n"
   },
   "outputs": [],
   "source": [
    "studies_df.to_csv(\"study_with_icf.csv\", index=False)"
   ]
  },
  {
   "cell_type": "code",
   "execution_count": null,
   "metadata": {
    "executionInfo": {
     "elapsed": 464,
     "status": "ok",
     "timestamp": 1701197660242,
     "user": {
      "displayName": "Aman Varshney",
      "userId": "03498139122202603422"
     },
     "user_tz": -60
    },
    "id": "VNBJLi3yDnaV"
   },
   "outputs": [],
   "source": [
    "studies_df = pd.read_csv(\"study_with_icf.csv\")"
   ]
  },
  {
   "cell_type": "code",
   "execution_count": null,
   "metadata": {
    "executionInfo": {
     "elapsed": 703,
     "status": "ok",
     "timestamp": 1701200707715,
     "user": {
      "displayName": "Aman Varshney",
      "userId": "03498139122202603422"
     },
     "user_tz": -60
    },
    "id": "gHL4fsAMJ7l7"
   },
   "outputs": [],
   "source": [
    "def download_icf(url, nct_number):\n",
    "  try:\n",
    "    r = requests.get(url, allow_redirects=True)\n",
    "\n",
    "    open(nct_number+\".pdf\", 'wb').write(r.content)\n",
    "\n",
    "  except Exception as e:\n",
    "    return e\n",
    "\n",
    "  return True"
   ]
  },
  {
   "cell_type": "code",
   "execution_count": 9,
   "metadata": {
    "executionInfo": {
     "elapsed": 440,
     "status": "ok",
     "timestamp": 1701200711136,
     "user": {
      "displayName": "Aman Varshney",
      "userId": "03498139122202603422"
     },
     "user_tz": -60
    },
    "id": "fr8HWQQwLhiz"
   },
   "outputs": [],
   "source": [
    "def extract_url(text):\n",
    "  import re\n",
    "  regex = r\"(?i)\\b((?:https?://|www\\d{0,3}[.]|[a-z0-9.\\-]+[.][a-z]{2,4}/)(?:[^\\s()<>]+|\\(([^\\s()<>]+|(\\([^\\s()<>]+\\)))*\\))+(?:\\(([^\\s()<>]+|(\\([^\\s()<>]+\\)))*\\)|[^\\s`!()\\[\\]{};:'\\\".,<>?«»“”‘’]))\"\n",
    "  url = re.findall(regex,text)\n",
    "  return [text[0] for text in url]"
   ]
  },
  {
   "cell_type": "code",
   "execution_count": null,
   "metadata": {
    "colab": {
     "background_save": true,
     "base_uri": "https://localhost:8080/"
    },
    "id": "ehn-D92gLBdh"
   },
   "outputs": [],
   "source": [
    "for index, row in studies_df.iterrows():\n",
    "    nct_number = row['NCT Number']\n",
    "    study_docs = row['Study Documents']\n",
    "    urls = extract_url(study_docs)\n",
    "    print(f\"Downloading ICF for {index} , {nct_number}\")\n",
    "    download_icf(urls[-1], nct_number)"
   ]
  }
 ],
 "metadata": {
  "colab": {
   "authorship_tag": "ABX9TyN6mRfobKq3OApHKK3qippi",
   "name": "",
   "version": ""
  },
  "kernelspec": {
   "display_name": "xai-cuda",
   "language": "python",
   "name": "python3"
  },
  "language_info": {
   "codemirror_mode": {
    "name": "ipython",
    "version": 3
   },
   "file_extension": ".py",
   "mimetype": "text/x-python",
   "name": "python",
   "nbconvert_exporter": "python",
   "pygments_lexer": "ipython3",
   "version": "3.9.16 (main, Jan 11 2023, 16:16:36) [MSC v.1916 64 bit (AMD64)]"
  },
  "vscode": {
   "interpreter": {
    "hash": "9ed869d4bfd91eb0934ca7dc6465b4c7a3523a26926e07149d835e0ee061cefb"
   }
  }
 },
 "nbformat": 4,
 "nbformat_minor": 0
}
