{
 "cells": [
  {
   "cell_type": "code",
   "execution_count": null,
   "metadata": {},
   "outputs": [],
   "source": [
    "!pip install pymupdf"
   ]
  },
  {
   "cell_type": "code",
   "execution_count": 1,
   "metadata": {},
   "outputs": [],
   "source": [
    "from os import listdir\n",
    "from os.path import isfile, join\n",
    "onlyfiles = [f for f in listdir(\"ICF\") if isfile(join('ICF', f))]"
   ]
  },
  {
   "cell_type": "code",
   "execution_count": 4,
   "metadata": {},
   "outputs": [],
   "source": [
    "import fitz"
   ]
  },
  {
   "attachments": {},
   "cell_type": "markdown",
   "metadata": {},
   "source": [
    "Extracting text from pdf using fitz library"
   ]
  },
  {
   "cell_type": "code",
   "execution_count": null,
   "metadata": {},
   "outputs": [],
   "source": [
    "for file in onlyfiles:\n",
    "    pdf_file = \"ICF/\" + file\n",
    "    doc = fitz.open(pdf_file) # open a document\n",
    "    out = open(\"ICF_text/\" + file[:-4] + \".txt\", \"wb\") # create a text output\n",
    "    for page in doc: # iterate the document pages\n",
    "        text = page.get_text().encode(\"utf8\") # get plain text (is in UTF-8)\n",
    "        out.write(text) # write text of page\n",
    "        out.write(bytes((12,))) # write page delimiter (form feed 0x0C)\n",
    "    out.close()"
   ]
  },
  {
   "attachments": {},
   "cell_type": "markdown",
   "metadata": {},
   "source": [
    "Finding files less than 2 kb in size, which might denote empty files or images in files only"
   ]
  },
  {
   "cell_type": "code",
   "execution_count": null,
   "metadata": {},
   "outputs": [],
   "source": [
    "import os\n",
    "\n",
    "def list_files_less_than_2kb(directory):\n",
    "    files = [f for f in os.listdir(directory) if os.path.isfile(os.path.join(directory, f))]\n",
    "    result = []\n",
    "\n",
    "    for file in files:\n",
    "        file_path = os.path.join(directory, file)\n",
    "        size_in_bytes = os.path.getsize(file_path)\n",
    "        size_in_kb = size_in_bytes / 1024  # convert bytes to kilobytes\n",
    "\n",
    "        if size_in_kb < 2:\n",
    "            result.append(file_path)\n",
    "\n",
    "    return result\n",
    "\n",
    "# Replace 'your_directory_path' with the path of the directory you want to search in\n",
    "directory_path = 'ICF_text'\n",
    "files_less_than_2kb = list_files_less_than_2kb(directory_path)\n",
    "\n",
    "print(\"Total files: {}\".format(len(files_less_than_2kb)))\n",
    "print(\"Files less than 2 KB:\")\n",
    "for file_path in files_less_than_2kb:\n",
    "    print(file_path)\n"
   ]
  },
  {
   "attachments": {},
   "cell_type": "markdown",
   "metadata": {},
   "source": [
    "Counting pages in pdf and saving in dataframe"
   ]
  },
  {
   "cell_type": "code",
   "execution_count": 2,
   "metadata": {},
   "outputs": [],
   "source": [
    "import pandas as pd"
   ]
  },
  {
   "cell_type": "code",
   "execution_count": null,
   "metadata": {},
   "outputs": [],
   "source": [
    "lst = []\n",
    "x=0\n",
    "for file in onlyfiles:\n",
    "    pdf_file = \"ICF/\" + file\n",
    "    if file[-3:] == 'pdf':\n",
    "        doc = fitz.open(pdf_file) # open a document\n",
    "        page_cnt = doc.page_count\n",
    "        new_row = {'file_name': file[:-4], 'page_count': page_cnt, 'file_type': 'pdf'}\n",
    "        lst.append(new_row)\n",
    "    else:\n",
    "        new_row = {'file_name': file[:-4], 'page_count': 0, 'file_type': 'No pdf'}\n",
    "        lst.append(new_row)\n",
    "    "
   ]
  },
  {
   "cell_type": "code",
   "execution_count": null,
   "metadata": {},
   "outputs": [],
   "source": [
    "df = pd.DataFrame(columns=['file_name', 'page_count', 'file_type'], data=lst)\n",
    "df"
   ]
  },
  {
   "cell_type": "code",
   "execution_count": 35,
   "metadata": {},
   "outputs": [],
   "source": [
    "df.to_csv('ICF_page_count.csv', index=False)"
   ]
  }
 ],
 "metadata": {
  "kernelspec": {
   "display_name": "avermass",
   "language": "python",
   "name": "python3"
  },
  "language_info": {
   "codemirror_mode": {
    "name": "ipython",
    "version": 3
   },
   "file_extension": ".py",
   "mimetype": "text/x-python",
   "name": "python",
   "nbconvert_exporter": "python",
   "pygments_lexer": "ipython3",
   "version": "3.8.16"
  },
  "orig_nbformat": 4,
  "vscode": {
   "interpreter": {
    "hash": "ec29b4f7069ceab177b81560804aa56acda96234e4ea9c25d2c4217a5f96be00"
   }
  }
 },
 "nbformat": 4,
 "nbformat_minor": 2
}
